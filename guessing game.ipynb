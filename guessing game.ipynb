{
 "cells": [
  {
   "cell_type": "markdown",
   "id": "fd0d2340-11de-4513-8dc3-14649e959172",
   "metadata": {},
   "source": [
    "## ----------------------------------Guessing Game---------------------------------------"
   ]
  },
  {
   "cell_type": "code",
   "execution_count": 11,
   "id": "5f6779f0-40e0-41ec-b99d-6f4d72fe00fc",
   "metadata": {},
   "outputs": [
    {
     "name": "stdin",
     "output_type": "stream",
     "text": [
      "Guess your Number: 9\n"
     ]
    },
    {
     "name": "stdout",
     "output_type": "stream",
     "text": [
      "congratulations!! You Won\n"
     ]
    }
   ],
   "source": [
    "#YOU HAVE ONLY 3 CHANCES\n",
    "secret_number=9\n",
    "guess_count=0\n",
    "guess_limit=3\n",
    "while guess_count< guess_limit:\n",
    "    guess=int(input(\"Guess your Number:\"))\n",
    "    guess_count+=1\n",
    "    if guess==secret_number:\n",
    "        print(\"congratulations!! You Won\")\n",
    "        break\n",
    "else:\n",
    "    print(\"Sorry!! You Failed\")"
   ]
  },
  {
   "cell_type": "code",
   "execution_count": null,
   "id": "2b1208a1-cf65-4627-95af-45d1e7ac9b12",
   "metadata": {},
   "outputs": [
    {
     "name": "stdin",
     "output_type": "stream",
     "text": [
      "> start\n"
     ]
    },
    {
     "name": "stdout",
     "output_type": "stream",
     "text": [
      "your car started...\n"
     ]
    },
    {
     "name": "stdin",
     "output_type": "stream",
     "text": [
      "> start\n"
     ]
    },
    {
     "name": "stdout",
     "output_type": "stream",
     "text": [
      "your car started...\n"
     ]
    }
   ],
   "source": [
    "command=\"\"\n",
    "while True:\n",
    "    command=input(\">\").lower()\n",
    "    if command==\"start\":\n",
    "        print(\"your car started...\")\n",
    "        if len(\"start\")==2:\n",
    "            print(\"your car is already started\")\n",
    "    elif command==\"stop\":\n",
    "        print(\"your car stopped...\")\n",
    "    elif command==\"help\":\n",
    "        print(\"\"\"\n",
    "start-To start a car\n",
    "stop-To stop a car\n",
    "quit-To quit\n",
    "             \"\"\")\n",
    "    elif command==\"quit\":\n",
    "        break\n",
    "    else:\n",
    "        print(\"sorry I dont understand\")\n",
    "              \n",
    "    "
   ]
  },
  {
   "cell_type": "code",
   "execution_count": null,
   "id": "e99238d1-1b18-46b6-a978-7bb61965302f",
   "metadata": {},
   "outputs": [],
   "source": []
  }
 ],
 "metadata": {
  "kernelspec": {
   "display_name": "Python 3 (ipykernel)",
   "language": "python",
   "name": "python3"
  },
  "language_info": {
   "codemirror_mode": {
    "name": "ipython",
    "version": 3
   },
   "file_extension": ".py",
   "mimetype": "text/x-python",
   "name": "python",
   "nbconvert_exporter": "python",
   "pygments_lexer": "ipython3",
   "version": "3.11.7"
  }
 },
 "nbformat": 4,
 "nbformat_minor": 5
}
